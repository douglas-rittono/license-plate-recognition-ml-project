{
  "nbformat": 4,
  "nbformat_minor": 0,
  "metadata": {
    "colab": {
      "provenance": [],
      "authorship_tag": "ABX9TyPMkcM1vA/7ZbpCXM3OtN5K",
      "include_colab_link": true
    },
    "kernelspec": {
      "name": "python3",
      "display_name": "Python 3"
    },
    "language_info": {
      "name": "python"
    }
  },
  "cells": [
    {
      "cell_type": "markdown",
      "metadata": {
        "id": "view-in-github",
        "colab_type": "text"
      },
      "source": [
        "<a href=\"https://colab.research.google.com/github/douglas-rittono/license-plate-recognition-ml-project/blob/main/Projeto_Aplicado_ML.ipynb\" target=\"_parent\"><img src=\"https://colab.research.google.com/assets/colab-badge.svg\" alt=\"Open In Colab\"/></a>"
      ]
    },
    {
      "cell_type": "markdown",
      "source": [
        "# Preparação de Imagens\n"
      ],
      "metadata": {
        "id": "fGfYXF4BNyvT"
      }
    },
    {
      "cell_type": "code",
      "source": [
        "listImage = ['Placa-FQF9941', \n",
        "             'Placa-HQW5678', \n",
        "             'Placa-Mercosul-ABC1B34', \n",
        "             'Placa-Mercosul-BRA0S17', \n",
        "             'Placa-Mercosul-BRA2O20', \n",
        "             'Placa-Mercosul-POX4G21',\n",
        "             'Placa-Mercosul-POX4G21-So-Placa', \n",
        "             'Placa-Mercosul-QRM7E33', \n",
        "             'Placa-Mercosul-RHA0A01',\n",
        "             'Placa-QOZ1774']\n",
        "imageFormat = 'jpg'\n",
        "imageRootUrl = 'https://raw.githubusercontent.com/douglas-rittono/license-plate-recognition-ml-project/main/Images/'"
      ],
      "metadata": {
        "id": "PClCMcO6mi2y"
      },
      "execution_count": 30,
      "outputs": []
    },
    {
      "cell_type": "markdown",
      "source": [
        "# **POC PyTesseract**"
      ],
      "metadata": {
        "id": "DIvuHqwJqNZp"
      }
    },
    {
      "cell_type": "code",
      "execution_count": null,
      "metadata": {
        "id": "pErPhup7Neeq"
      },
      "outputs": [],
      "source": [
        "!sudo apt install tesseract-ocr\n",
        "!pip install pytesseract"
      ]
    },
    {
      "cell_type": "code",
      "source": [
        "import pytesseract\n",
        "import shutil\n",
        "import os\n",
        "import random\n",
        "import requests\n",
        "try:\n",
        " from PIL import Image\n",
        "except ImportError:\n",
        " import Image"
      ],
      "metadata": {
        "id": "EtcmlCyyOxeS"
      },
      "execution_count": 31,
      "outputs": []
    },
    {
      "cell_type": "code",
      "source": [
        "for item in listImage:\n",
        "  image_url = f'{ imageRootUrl }{ item }.{ imageFormat }'\n",
        "  extractedInformation = pytesseract.image_to_string(Image.open(requests.get(image_url, stream=True).raw))\n",
        "  print(f'Image: { item } Valor: {extractedInformation.strip()}')\n",
        "  extractedBox = pytesseract.image_to_boxes(Image.open(requests.get(image_url, stream=True).raw))\n",
        "  print(f'Image: { item } Box: { extractedBox }')"
      ],
      "metadata": {
        "colab": {
          "base_uri": "https://localhost:8080/"
        },
        "id": "HM68vEwZO2ll",
        "outputId": "05dfd0f8-f41d-4b2a-f8c6-1dd03527e9b2"
      },
      "execution_count": 37,
      "outputs": [
        {
          "output_type": "stream",
          "name": "stdout",
          "text": [
            "Image: Placa-FQF9941 Valor: \n",
            "Image: Placa-FQF9941 Box: ~ 0 20 615 300 0\n",
            "\n",
            "Image: Placa-HQW5678 Valor: MS - CAMPO GRANDE\n",
            "\n",
            "HQW-5678\n",
            "\n",
            "O79HS1993\n",
            "Image: Placa-HQW5678 Box: ~ 26 207 683 209 0\n",
            "~ 66 157 644 159 0\n",
            "M 196 163 215 185 0\n",
            "S 219 164 256 185 0\n",
            "- 237 153 272 203 0\n",
            "C 271 163 287 186 0\n",
            "A 292 164 310 185 0\n",
            "M 315 163 334 185 0\n",
            "P 339 163 355 185 0\n",
            "O 360 163 377 185 0\n",
            "G 393 163 410 185 0\n",
            "R 416 163 432 185 0\n",
            "A 437 163 455 185 0\n",
            "N 461 163 478 185 0\n",
            "D 484 163 500 185 0\n",
            "E 506 163 521 185 0\n",
            "H 33 37 116 198 0\n",
            "Q 135 32 219 146 0\n",
            "W 230 37 319 148 0\n",
            "- 331 81 353 102 0\n",
            "5 369 35 435 148 0\n",
            "6 449 34 516 148 0\n",
            "7 531 36 598 148 0\n",
            "8 610 36 680 192 0\n",
            "O 313 20 318 31 0\n",
            "7 321 20 325 31 0\n",
            "9 327 20 332 31 0\n",
            "H 327 20 337 31 0\n",
            "S 333 20 345 31 0\n",
            "1 348 20 350 31 0\n",
            "9 353 20 358 31 0\n",
            "9 359 20 364 31 0\n",
            "3 366 20 371 31 0\n",
            "~ 26 14 683 16 0\n",
            "\n",
            "Image: Placa-Mercosul-ABC1B34 Valor: BRASIL\n",
            "\n",
            "ABC1B34\n",
            "Image: Placa-Mercosul-ABC1B34 Box: ~ 0 449 990 549 0\n",
            "B 405 471 426 500 0\n",
            "R 436 472 457 500 0\n",
            "A 436 471 484 501 0\n",
            "S 466 472 488 500 0\n",
            "I 498 472 514 501 0\n",
            "L 524 472 559 500 0\n",
            "A 0 212 137 520 0\n",
            "B 146 212 268 530 0\n",
            "C 294 257 397 433 0\n",
            "1 421 257 517 433 0\n",
            "B 543 258 644 433 0\n",
            "3 658 208 769 435 0\n",
            "4 798 257 959 533 0\n",
            "~ 0 209 990 230 0\n",
            "\n",
            "Image: Placa-Mercosul-BRA0S17 Valor: ‘BRAGS17_\n",
            "Image: Placa-Mercosul-BRA0S17 Box: ~ 91 111 937 390 0\n",
            "‘ 115 134 165 356 0\n",
            "B 168 155 247 364 0\n",
            "R 270 155 351 291 0\n",
            "A 367 155 441 291 0\n",
            "G 461 155 538 291 0\n",
            "S 559 154 632 291 0\n",
            "1 655 155 730 291 0\n",
            "7 762 155 831 291 0\n",
            "_ 848 316 901 362 0\n",
            "\n",
            "Image: Placa-Mercosul-BRA2O20 Valor: \n",
            "Image: Placa-Mercosul-BRA2O20 Box: \n",
            "Image: Placa-Mercosul-POX4G21 Valor: \n",
            "Image: Placa-Mercosul-POX4G21 Box: ~ 0 0 1772 1181 0\n",
            "\n",
            "Image: Placa-Mercosul-POX4G21-So-Placa Valor: \n",
            "Image: Placa-Mercosul-POX4G21-So-Placa Box: ~ 0 0 421 162 0\n",
            "\n",
            "Image: Placa-Mercosul-QRM7E33 Valor: Ty Ade mae\n",
            "Image: Placa-Mercosul-QRM7E33 Box: T 424 437 466 461 0\n",
            "y 455 427 482 480 0\n",
            "A 481 437 492 461 0\n",
            "d 501 437 526 461 0\n",
            "e 536 437 550 461 0\n",
            "m 778 385 785 386 0\n",
            "a 782 381 816 480 0\n",
            "e 822 431 857 476 0\n",
            "~ 0 0 984 429 0\n",
            "\n",
            "Image: Placa-Mercosul-RHA0A01 Valor: \n",
            "Image: Placa-Mercosul-RHA0A01 Box: ~ 0 0 600 400 0\n",
            "\n",
            "Image: Placa-QOZ1774 Valor: \n",
            "Image: Placa-QOZ1774 Box: ~ 0 0 290 174 0\n",
            "\n"
          ]
        }
      ]
    }
  ]
}