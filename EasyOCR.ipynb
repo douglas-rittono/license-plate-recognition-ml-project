{
  "nbformat": 4,
  "nbformat_minor": 0,
  "metadata": {
    "colab": {
      "provenance": [],
      "gpuType": "T4"
    },
    "kernelspec": {
      "name": "python3",
      "display_name": "Python 3"
    },
    "language_info": {
      "name": "python"
    },
    "accelerator": "GPU",
    "gpuClass": "standard"
  },
  "cells": [
    {
      "cell_type": "code",
      "execution_count": null,
      "metadata": {
        "id": "x3r1GIqbpbfV"
      },
      "outputs": [],
      "source": [
        "!pip install easyocr"
      ]
    },
    {
      "cell_type": "code",
      "source": [
        "import easyocr"
      ],
      "metadata": {
        "id": "wgtg8R5ZpoZe"
      },
      "execution_count": 31,
      "outputs": []
    },
    {
      "cell_type": "code",
      "source": [
        "listImage = ['Placa-FQF9941', \n",
        "             'Placa-HQW5678', \n",
        "             'Placa-Mercosul-ABC1B34', \n",
        "             'Placa-Mercosul-BRA0S17', \n",
        "             'Placa-Mercosul-BRA2O20', \n",
        "             'Placa-Mercosul-POX4G21',\n",
        "             'Placa-Mercosul-POX4G21-So-Placa', \n",
        "             'Placa-Mercosul-QRM7E33', \n",
        "             'Placa-Mercosul-RHA0A01',\n",
        "             'Placa-QOZ1774']\n",
        "imageFormat = 'jpg'\n",
        "imageRootUrl = 'https://raw.githubusercontent.com/douglas-rittono/license-plate-recognition-ml-project/main/Images/'"
      ],
      "metadata": {
        "id": "N8q546nDsFVc"
      },
      "execution_count": 32,
      "outputs": []
    },
    {
      "cell_type": "code",
      "source": [
        "reader = easyocr.Reader(['pt'])\n",
        "\n",
        "for item in listImage:\n",
        "  image_url = f'{ imageRootUrl }{ item }.{ imageFormat }'\n",
        "  result = reader.readtext(image_url)\n",
        "  for itemValue in result:\n",
        "    txt = itemValue[1].replace(' ', '')\n",
        "    print(txt)"
      ],
      "metadata": {
        "colab": {
          "base_uri": "https://localhost:8080/"
        },
        "id": "L2X7lw_5peHz",
        "outputId": "36edfc4a-9de7-4c54-d961-246181e567ba"
      },
      "execution_count": 33,
      "outputs": [
        {
          "output_type": "stream",
          "name": "stdout",
          "text": [
            "Progress: |██████████████████████████████████████████████████| 101.5% CompleteFQF.994/\n",
            "Progress: |███████████████████████████████████████████████████| 102.9% CompleteMakolr\n",
            "MS\n",
            "CAMPOGRANDE\n",
            "HQW5678\n",
            "079H51993\n",
            "Progress: |██████████████████████████████████████████████████| 100.2% CompleteMERCOSUL\n",
            "BRASIL\n",
            "ABCIB34\n",
            "Progress: |██████████████████████████████████████████████████| 100.8% CompleteBRASIL\n",
            "MERCOSUL\n",
            "BR\n",
            "BRAOS17\n",
            "Progress: |█████████████████████████████████████████████████████████████████████████████| 155.6% CompleteBRASIL\n",
            "BRA2020\n",
            "Progress: |██████████████████████████████████████████████████| 100.6% CompleteBRaSIL\n",
            "75Pcos\n",
            "BR\n",
            "POX4G21\n",
            "Progress: |████████████████████████████████████████████████████| 104.8% CompleteBRaSIL\n",
            "Vee\n",
            "BR\n",
            "POX4G21\n",
            "Progress: |███████████████████████████████████████████████████████████| 119.4% CompleteMERCOSUL\n",
            "BRASIL\n",
            "BR\n",
            "QRM7E33\n",
            "Progress: |██████████████████████████████████████████████████| 101.1% Complete(FIAT\n",
            "rrasil\n",
            "RHAOAD1\n",
            "Progress: |███████████████████████████████████████████████████████████████████████████████████| 167.9% CompleteRorizonie\n",
            "'Becd\n",
            "00Z.\n",
            "1774\n"
          ]
        }
      ]
    }
  ]
}